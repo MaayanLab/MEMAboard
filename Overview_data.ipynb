{
 "cells": [
  {
   "cell_type": "markdown",
   "metadata": {},
   "source": [
    "# Overview of the MEMA data \n"
   ]
  },
  {
   "cell_type": "code",
   "execution_count": 2,
   "metadata": {
    "collapsed": true
   },
   "outputs": [],
   "source": [
    "import pandas as pd\n",
    "import numpy as np\n",
    "from clustergrammer_widget import *"
   ]
  },
  {
   "cell_type": "markdown",
   "metadata": {},
   "source": [
    "## Load matrix of data (with no row or col labels)"
   ]
  },
  {
   "cell_type": "code",
   "execution_count": 3,
   "metadata": {
    "collapsed": true
   },
   "outputs": [],
   "source": [
    "filename = 'embedding-projector-standalone/oss_data/MCF10A_SS1.tsv'\n",
    "f = open(filename, 'r')\n",
    "lines = f.readlines()\n",
    "f.close()"
   ]
  },
  {
   "cell_type": "code",
   "execution_count": 4,
   "metadata": {
    "collapsed": false
   },
   "outputs": [
    {
     "name": "stdout",
     "output_type": "stream",
     "text": [
      "2736\n",
      "57\n"
     ]
    }
   ],
   "source": [
    "num_rows = len(lines)\n",
    "num_cols = len(lines[0].strip().split('\\t'))\n",
    "print(num_rows)\n",
    "print(num_cols)\n",
    "mat = np.zeros((num_rows, num_cols))"
   ]
  },
  {
   "cell_type": "code",
   "execution_count": 13,
   "metadata": {
    "collapsed": false,
    "scrolled": false
   },
   "outputs": [],
   "source": [
    "for i in range(len(lines)):\n",
    "    inst_line = lines[i]\n",
    "    inst_line = inst_line.strip().split('\\t')\n",
    "    inst_arr = np.asarray(inst_line)\n",
    "    mat[i,:] = inst_arr"
   ]
  },
  {
   "cell_type": "code",
   "execution_count": 15,
   "metadata": {
    "collapsed": false
   },
   "outputs": [
    {
     "data": {
      "text/plain": [
       "(2736, 57)"
      ]
     },
     "execution_count": 15,
     "metadata": {},
     "output_type": "execute_result"
    }
   ],
   "source": [
    "mat.shape"
   ]
  },
  {
   "cell_type": "markdown",
   "metadata": {},
   "source": [
    "## Make ro\n",
    "Convert the six pieces of metadata into tuples for keeping track of names and categories."
   ]
  },
  {
   "cell_type": "code",
   "execution_count": 16,
   "metadata": {
    "collapsed": true
   },
   "outputs": [],
   "source": [
    "filename = 'embedding-projector-standalone/oss_data/MCF10A_SS1_meta.tsv'\n",
    "f = open(filename, 'r')\n",
    "lines = f.readlines()\n",
    "f.close()"
   ]
  },
  {
   "cell_type": "code",
   "execution_count": 29,
   "metadata": {
    "collapsed": false
   },
   "outputs": [],
   "source": [
    "rows = []\n",
    "for i in range(len(lines)):\n",
    "    inst_line = lines[i].strip().split('\\t')\n",
    "    if i == 0:\n",
    "        titles = inst_line\n",
    "    if i > 0:\n",
    "        # make tuple for each row\n",
    "        inst_tuple = ()\n",
    "        for j in range(len(inst_line)):\n",
    "            inst_string = titles[j] + ': ' + inst_line[j]\n",
    "            inst_tuple = inst_tuple + (inst_string,)\n",
    "        # add tuple to row names\n",
    "        rows.append(inst_tuple)"
   ]
  },
  {
   "cell_type": "markdown",
   "metadata": {},
   "source": [
    "## Make column names (just numbers)"
   ]
  },
  {
   "cell_type": "code",
   "execution_count": 34,
   "metadata": {
    "collapsed": true
   },
   "outputs": [],
   "source": [
    "cols = range(num_cols)\n",
    "cols = [str(i) for i in cols]"
   ]
  },
  {
   "cell_type": "code",
   "execution_count": null,
   "metadata": {
    "collapsed": false
   },
   "outputs": [],
   "source": []
  },
  {
   "cell_type": "code",
   "execution_count": null,
   "metadata": {
    "collapsed": true
   },
   "outputs": [],
   "source": []
  }
 ],
 "metadata": {
  "kernelspec": {
   "display_name": "Python 2",
   "language": "python",
   "name": "python2"
  },
  "language_info": {
   "codemirror_mode": {
    "name": "ipython",
    "version": 2
   },
   "file_extension": ".py",
   "mimetype": "text/x-python",
   "name": "python",
   "nbconvert_exporter": "python",
   "pygments_lexer": "ipython2",
   "version": "2.7.12"
  }
 },
 "nbformat": 4,
 "nbformat_minor": 2
}
